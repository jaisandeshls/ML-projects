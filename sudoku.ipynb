{
 "cells": [
  {
   "cell_type": "markdown",
   "metadata": {},
   "source": [
    "# sudoku game solver"
   ]
  },
  {
   "cell_type": "code",
   "execution_count": 86,
   "metadata": {},
   "outputs": [],
   "source": [
    "\n",
    "    \n",
    "def print_board(bo):\n",
    "    for i in range(len(bo)):\n",
    "        if i%3==0 and i!=0:\n",
    "            print('----------------------')\n",
    "        for j in range(len(bo[0])):\n",
    "            if j%3==0 and j!=0:\n",
    "                print('|'+' ',end='')\n",
    "            if j ==8:\n",
    "                print(str(bo[i][j]))\n",
    "            else:\n",
    "                print(str(bo[i][j])+' ',end='')\n",
    "                \n",
    "                \n",
    "                \n",
    "                \n",
    "                \n",
    "def find_zeros(bo):\n",
    "    for i in range(len(bo)):\n",
    "        for j in range(len(bo[0])):\n",
    "            if bo[i][j]==0:\n",
    "                return(i,j)\n",
    "    return None\n",
    "\n",
    "\n",
    "\n",
    "\n",
    "def verify(bo,num,pos):\n",
    "    # checking rows\n",
    "    for i in range(len(bo[0])):\n",
    "        if bo[pos[0]][i] ==num and pos[1] !=i:\n",
    "            return False\n",
    "    #checking columns\n",
    "    for i in range(len(bo)):\n",
    "        if bo[i][pos[1]] == num and pos[0] !=i:\n",
    "            return False\n",
    "    #checking squares\n",
    "    x_side = pos[0]//3\n",
    "    y_side = pos[1]//3\n",
    "    \n",
    "    for i in range(x_side*3,x_side*3+3):\n",
    "        for j in range(y_side*3,y_side*3+3):\n",
    "            if bo[i][j]==num and pos != (i,j):\n",
    "                return False\n",
    "    return True\n",
    "\n",
    "\n",
    "\n",
    "            \n",
    "def solver(bo):\n",
    "    find = find_zeros(bo)\n",
    "    if not find:\n",
    "        return True\n",
    "    else:\n",
    "        row, col = find\n",
    "\n",
    "    for i in range(1,10):\n",
    "        if verify(bo, i, (row, col)):\n",
    "            bo[row][col] = i\n",
    "\n",
    "            if solve(bo):\n",
    "                return True\n",
    "\n",
    "            bo[row][col] = 0\n",
    "\n",
    "    return False"
   ]
  },
  {
   "cell_type": "code",
   "execution_count": 91,
   "metadata": {},
   "outputs": [],
   "source": [
    "board =[[8, 0, 0, 0, 0, 0, 0, 0, 0],\n",
    "        [0, 0, 3, 6, 0, 0, 0, 0, 0],\n",
    "        [0, 7, 0, 0, 9, 0, 2, 0, 0],\n",
    "        [0, 5, 0, 0, 0, 7, 0, 0, 0],\n",
    "        [0, 0, 0, 0, 4, 5, 7, 0, 0],\n",
    "        [0, 0, 0, 1, 0, 0, 0, 3, 0],\n",
    "        [0, 0, 1, 0, 0, 0, 0, 6, 8],\n",
    "        [0, 0, 8, 5, 0, 0, 0, 1, 0],\n",
    "        [0, 9, 0, 0, 0, 0, 4, 0, 0]]"
   ]
  },
  {
   "cell_type": "code",
   "execution_count": 92,
   "metadata": {},
   "outputs": [
    {
     "name": "stdout",
     "output_type": "stream",
     "text": [
      "8 0 0 | 0 0 0 | 0 0 0\n",
      "0 0 3 | 6 0 0 | 0 0 0\n",
      "0 7 0 | 0 9 0 | 2 0 0\n",
      "----------------------\n",
      "0 5 0 | 0 0 7 | 0 0 0\n",
      "0 0 0 | 0 4 5 | 7 0 0\n",
      "0 0 0 | 1 0 0 | 0 3 0\n",
      "----------------------\n",
      "0 0 1 | 0 0 0 | 0 6 8\n",
      "0 0 8 | 5 0 0 | 0 1 0\n",
      "0 9 0 | 0 0 0 | 4 0 0\n"
     ]
    }
   ],
   "source": [
    "print_board(board)\n"
   ]
  },
  {
   "cell_type": "code",
   "execution_count": 93,
   "metadata": {},
   "outputs": [
    {
     "data": {
      "text/plain": [
       "True"
      ]
     },
     "execution_count": 93,
     "metadata": {},
     "output_type": "execute_result"
    }
   ],
   "source": [
    "solver(board)"
   ]
  },
  {
   "cell_type": "code",
   "execution_count": 94,
   "metadata": {},
   "outputs": [
    {
     "name": "stdout",
     "output_type": "stream",
     "text": [
      "8 1 2 | 7 5 3 | 6 4 9\n",
      "9 4 3 | 6 8 2 | 1 7 5\n",
      "6 7 5 | 4 9 1 | 2 8 3\n",
      "----------------------\n",
      "1 5 4 | 2 3 7 | 8 9 6\n",
      "3 6 9 | 8 4 5 | 7 2 1\n",
      "2 8 7 | 1 6 9 | 5 3 4\n",
      "----------------------\n",
      "5 2 1 | 9 7 4 | 3 6 8\n",
      "4 3 8 | 5 2 6 | 9 1 7\n",
      "7 9 6 | 3 1 8 | 4 5 2\n"
     ]
    }
   ],
   "source": [
    "print_board(board)"
   ]
  },
  {
   "cell_type": "code",
   "execution_count": null,
   "metadata": {},
   "outputs": [],
   "source": []
  }
 ],
 "metadata": {
  "kernelspec": {
   "display_name": "Python 3",
   "language": "python",
   "name": "python3"
  },
  "language_info": {
   "codemirror_mode": {
    "name": "ipython",
    "version": 3
   },
   "file_extension": ".py",
   "mimetype": "text/x-python",
   "name": "python",
   "nbconvert_exporter": "python",
   "pygments_lexer": "ipython3",
   "version": "3.7.6"
  }
 },
 "nbformat": 4,
 "nbformat_minor": 4
}
